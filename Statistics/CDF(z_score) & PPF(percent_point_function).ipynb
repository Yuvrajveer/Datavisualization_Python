{
 "cells": [
  {
   "cell_type": "markdown",
   "id": "f2af9112",
   "metadata": {},
   "source": [
    "# CDF"
   ]
  },
  {
   "cell_type": "code",
   "execution_count": 2,
   "id": "be7cba8f",
   "metadata": {},
   "outputs": [],
   "source": [
    "import pandas as pd\n",
    "import numpy as np\n",
    "from scipy import stats"
   ]
  },
  {
   "cell_type": "code",
   "execution_count": 7,
   "id": "3269766e",
   "metadata": {},
   "outputs": [
    {
     "data": {
      "text/plain": [
       "0.9772498680518208"
      ]
     },
     "execution_count": 7,
     "metadata": {},
     "output_type": "execute_result"
    }
   ],
   "source": [
    "1 - stats.norm.cdf(50,loc=70,scale=10)"
   ]
  },
  {
   "cell_type": "code",
   "execution_count": 3,
   "id": "41520341",
   "metadata": {},
   "outputs": [
    {
     "data": {
      "text/plain": [
       "0.9544997361036416"
      ]
     },
     "execution_count": 3,
     "metadata": {},
     "output_type": "execute_result"
    }
   ],
   "source": [
    "stats.norm.cdf(90,70,10) - stats.norm.cdf(50,70,10)"
   ]
  },
  {
   "cell_type": "code",
   "execution_count": 4,
   "id": "a641e0c6",
   "metadata": {},
   "outputs": [
    {
     "data": {
      "text/plain": [
       "0.0013498980316301035"
      ]
     },
     "execution_count": 4,
     "metadata": {},
     "output_type": "execute_result"
    }
   ],
   "source": [
    "1-stats.norm.cdf(100,70,10)"
   ]
  },
  {
   "cell_type": "code",
   "execution_count": 5,
   "id": "d159d6fb",
   "metadata": {},
   "outputs": [
    {
     "data": {
      "text/plain": [
       "0.4331927987311419"
      ]
     },
     "execution_count": 5,
     "metadata": {},
     "output_type": "execute_result"
    }
   ],
   "source": [
    "stats.norm.cdf(70,70,10) - stats.norm.cdf(55,70,10)"
   ]
  },
  {
   "cell_type": "markdown",
   "id": "cc84192f",
   "metadata": {},
   "source": [
    "# PPF(point_percent_fn())"
   ]
  },
  {
   "cell_type": "code",
   "execution_count": null,
   "id": "9fb688a5",
   "metadata": {},
   "outputs": [],
   "source": [
    "#mean=700, probability=0.85, standard deviation=25"
   ]
  },
  {
   "cell_type": "code",
   "execution_count": 8,
   "id": "a0f2a7de",
   "metadata": {},
   "outputs": [
    {
     "data": {
      "text/plain": [
       "725.9108347373448"
      ]
     },
     "execution_count": 8,
     "metadata": {},
     "output_type": "execute_result"
    }
   ],
   "source": [
    "stats.norm.ppf(0.85,loc=700,scale=25)"
   ]
  },
  {
   "cell_type": "code",
   "execution_count": 4,
   "id": "8f2ad5a4",
   "metadata": {},
   "outputs": [
    {
     "data": {
      "text/plain": [
       "1.959963984540054"
      ]
     },
     "execution_count": 4,
     "metadata": {},
     "output_type": "execute_result"
    }
   ],
   "source": [
    "stats.norm.ppf(0.975)"
   ]
  }
 ],
 "metadata": {
  "kernelspec": {
   "display_name": "Python 3 (ipykernel)",
   "language": "python",
   "name": "python3"
  },
  "language_info": {
   "codemirror_mode": {
    "name": "ipython",
    "version": 3
   },
   "file_extension": ".py",
   "mimetype": "text/x-python",
   "name": "python",
   "nbconvert_exporter": "python",
   "pygments_lexer": "ipython3",
   "version": "3.11.7"
  }
 },
 "nbformat": 4,
 "nbformat_minor": 5
}
