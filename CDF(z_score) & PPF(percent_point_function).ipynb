#!/usr/bin/env python
# coding: utf-8

# # CDF

# In[2]:


import pandas as pd
import numpy as np
from scipy import stats


# In[7]:


1 - stats.norm.cdf(50,loc=70,scale=10)


# In[3]:


stats.norm.cdf(90,70,10) - stats.norm.cdf(50,70,10)


# In[4]:


1-stats.norm.cdf(100,70,10)


# In[5]:


stats.norm.cdf(70,70,10) - stats.norm.cdf(55,70,10)


# # PPF(point_percent_fn())

# In[ ]:


#mean=700, probability=0.85, standard deviation=25


# In[8]:


stats.norm.ppf(0.85,loc=700,scale=25)


# In[4]:


stats.norm.ppf(0.975)

